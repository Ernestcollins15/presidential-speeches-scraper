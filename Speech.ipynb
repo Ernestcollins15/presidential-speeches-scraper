{
 "cells": [
  {
   "cell_type": "code",
   "execution_count": 2,
   "metadata": {},
   "outputs": [],
   "source": [
    "# Getting required Libraries\n",
    "import selenium\n",
    "import os\n",
    "import requests\n",
    "import pandas as pd\n",
    "import datetime\n",
    "import re\n",
    "import json\n",
    "import certifi\n",
    "import time\n",
    "from time import sleep\n",
    "from selenium import webdriver \n",
    "from bs4 import BeautifulSoup\n",
    "from urllib.parse import urljoin\n",
    "from selenium.webdriver.chrome.service import Service\n",
    "from selenium.webdriver.common.by import By\n",
    "from selenium.webdriver.support.ui import WebDriverWait\n",
    "from selenium.webdriver.support import expected_conditions as EC\n",
    "import PyPDF2"
   ]
  },
  {
   "cell_type": "code",
   "execution_count": 17,
   "metadata": {},
   "outputs": [
    {
     "name": "stdout",
     "output_type": "stream",
     "text": [
      "Speech element not found on the webpage.\n"
     ]
    },
    {
     "name": "stderr",
     "output_type": "stream",
     "text": [
      "C:\\Users\\Ernest\\AppData\\Roaming\\Python\\Python311\\site-packages\\urllib3\\connectionpool.py:1056: InsecureRequestWarning: Unverified HTTPS request is being made to host 'www.president.go.ke'. Adding certificate verification is strongly advised. See: https://urllib3.readthedocs.io/en/1.26.x/advanced-usage.html#ssl-warnings\n",
      "  warnings.warn(\n"
     ]
    }
   ],
   "source": [
    "# URL of the webpage containing the speech\n",
    "url = 'https://www.president.go.ke/speeches/'\n",
    "\n",
    "# Sending a request to the website with SSL verification disabled\n",
    "response = requests.get(url, verify = False)\n",
    "\n",
    "# Checking if the request was successful\n",
    "if response.status_code == 200:\n",
    "    # Parsing the HTML content\n",
    "    soup = BeautifulSoup(response.text, 'html.parser')\n",
    "\n",
    "    # Finding the element containing the speech\n",
    "    speech_element = soup.find('div', {'class': 'brxe-section'})\n",
    "\n",
    "    # Checking if the speech element is found\n",
    "    if speech_element:\n",
    "        # Extracting the text from the speech element\n",
    "        speech_text = speech_element.get_text()\n",
    "        print(speech_text)\n",
    "    else:\n",
    "        print(\"Speech element not found on the webpage.\")\n",
    "else:\n",
    "    print(f\"Failed to retrieve the webpage. Status code: {response.status_code}\")\n"
   ]
  },
  {
   "cell_type": "code",
   "execution_count": 4,
   "metadata": {},
   "outputs": [
    {
     "name": "stdout",
     "output_type": "stream",
     "text": [
      "Date: March 5, 2024, Event: DURING THE OPENING OF THE 3RD SITTING OF THE 3RD SESSION OF THE 5TH EAST AFRICAN LEGISLATIVE ASSEMBLY\n",
      "Date: February 18, 2024, Event: ON THE REPORT OF THE CAHOSCC MEETING OF 17TH FEBRUARY 2024 TABLED FOR ADOPTION AT THE AFRICAN UNION GENERAL ASSEMBLY\n",
      "Date: February 18, 2024, Event: DURING AN EVENT CO-HOSTED BY THE GOVERNMENT OF KENYA AND THE INTERNATIONAL VACCINE INSTITUTE ON THE SIDELINES OF 37TH ORDINARY SESSION OF THE ASSEMBLY OF THE AFRICAN UNION IN ADDIS ABABA, ETHIOPIA.\n",
      "Date: February 17, 2024, Event: AT THE MEETING OF THE COMMITTEE OF AFRICAN HEADS OF STATE AND GOVERNMENT ON CLIMATE CHANGE\n",
      "Date: February 17, 2024, Event: Presidential Dialogue on the Global Financial Institutions Reform, Addis Ababa, 17th February, 2024\n",
      "Date: February 16, 2024, Event: AT THE HIGH-LEVEL EVENT ON CLIMATE FINANCE FOR AGRICULTURE AND FOOD SECURITY\n",
      "Date: February 14, 2024, Event: Despatch from Cabinet – 14.02.2024\n",
      "Date: February 13, 2024, Event: THE WORLD GOVERNMENTS SUMMIT IN DUBAI, UAE\n",
      "Date: February 8, 2024, Event: FOLLOWING A BILATERAL MEETING WITH H. E. FUMIO KISHIDA, PRIME MINISTER OF JAPAN, ON STATE VISIT TO JAPAN\n",
      "Date: February 6, 2024, Event: DURING THE KENYA-POLAND HIGH-LEVEL ECONOMIC DIALOGUE\n"
     ]
    }
   ],
   "source": [
    "import re\n",
    "\n",
    "# Sample data\n",
    "data = \"\"\"\n",
    "DURING THE OPENING OF THE 3RD SITTING OF THE 3RD SESSION OF THE 5TH EAST AFRICAN LEGISLATIVE ASSEMBLY\n",
    "March 5, 2024\n",
    "\n",
    "ON THE REPORT OF THE CAHOSCC MEETING OF 17TH FEBRUARY 2024 TABLED FOR ADOPTION AT THE AFRICAN UNION GENERAL ASSEMBLY\n",
    "February 18, 2024\n",
    "\n",
    "DURING AN EVENT CO-HOSTED BY THE GOVERNMENT OF KENYA AND THE INTERNATIONAL VACCINE INSTITUTE ON THE SIDELINES OF 37TH ORDINARY SESSION OF THE ASSEMBLY OF THE AFRICAN UNION IN ADDIS ABABA, ETHIOPIA.\n",
    "February 18, 2024\n",
    "\n",
    "AT THE MEETING OF THE COMMITTEE OF AFRICAN HEADS OF STATE AND GOVERNMENT ON CLIMATE CHANGE\n",
    "February 17, 2024\n",
    "\n",
    "Presidential Dialogue on the Global Financial Institutions Reform, Addis Ababa, 17th February, 2024 \n",
    "February 17, 2024\n",
    "\n",
    "AT THE HIGH-LEVEL EVENT ON CLIMATE FINANCE FOR AGRICULTURE AND FOOD SECURITY\n",
    "February 16, 2024\n",
    "\n",
    "Despatch from Cabinet – 14.02.2024\n",
    "February 14, 2024\n",
    "\n",
    "THE WORLD GOVERNMENTS SUMMIT IN DUBAI, UAE\n",
    "February 13, 2024\n",
    "\n",
    "FOLLOWING A BILATERAL MEETING WITH H. E. FUMIO KISHIDA, PRIME MINISTER OF JAPAN, ON STATE VISIT TO JAPAN\n",
    "February 8, 2024\n",
    "\n",
    "DURING THE KENYA-POLAND HIGH-LEVEL ECONOMIC DIALOGUE\n",
    "February 6, 2024\n",
    "\"\"\"\n",
    "\n",
    "# Define a regular expression pattern to extract dates and events\n",
    "pattern = re.compile(r'(.+?)\\n([A-Za-z]+\\s\\d{1,2},\\s\\d{4})')\n",
    "\n",
    "# Find all matches in the data\n",
    "matches = pattern.findall(data)\n",
    "\n",
    "# Display the extracted information\n",
    "for match in matches:\n",
    "    event = match[0].strip()\n",
    "    date = match[1]\n",
    "    print(f\"Date: {date}, Event: {event}\")\n"
   ]
  },
  {
   "cell_type": "code",
   "execution_count": 19,
   "metadata": {},
   "outputs": [
    {
     "name": "stderr",
     "output_type": "stream",
     "text": [
      "C:\\Users\\Ernest\\AppData\\Roaming\\Python\\Python311\\site-packages\\urllib3\\connectionpool.py:1056: InsecureRequestWarning: Unverified HTTPS request is being made to host 'www.president.go.ke'. Adding certificate verification is strongly advised. See: https://urllib3.readthedocs.io/en/1.26.x/advanced-usage.html#ssl-warnings\n",
      "  warnings.warn(\n"
     ]
    }
   ],
   "source": [
    "url = \"https://www.president.go.ke/speeches/\"\n",
    "\n",
    "# Disabling SSL verification\n",
    "response = requests.get(url, verify=False)\n",
    "soup = BeautifulSoup(response.text, 'html.parser')\n",
    "\n",
    "entries = soup.find_all(\"div\", class_=\"brxe-kvryow brxe-block\")\n",
    "\n",
    "for entry in entries:\n",
    "    title = entry.find(\"h2\").text\n",
    "    date = entry.find(\"span\", class_=\"date\").text\n",
    "    content_url = entry.find(\"a\")[\"href\"]\n",
    "    print(content_url)\n",
    "\n",
    "    # Making request to the content_url to get the full speech content\n",
    "    content_response = requests.get(content_url, verify=False)\n",
    "    content_soup = BeautifulSoup(content_response.text, 'html.parser')\n",
    "\n",
    "    # Extracting the speech content based on the HTML structure of the content page\n",
    "    speech_content = content_soup.find(\"div\", class_=\"brxe-kvryow brxe-block\").text\n",
    "\n",
    "    # Print or store the extracted data as needed\n",
    "    print(f\"Title: {title}\\nDate: {date}\\nSpeech Content: {speech_content}\\n\")"
   ]
  },
  {
   "cell_type": "code",
   "execution_count": 21,
   "metadata": {},
   "outputs": [
    {
     "name": "stderr",
     "output_type": "stream",
     "text": [
      "C:\\Users\\Ernest\\AppData\\Roaming\\Python\\Python311\\site-packages\\urllib3\\connectionpool.py:1056: InsecureRequestWarning: Unverified HTTPS request is being made to host 'www.president.go.ke'. Adding certificate verification is strongly advised. See: https://urllib3.readthedocs.io/en/1.26.x/advanced-usage.html#ssl-warnings\n",
      "  warnings.warn(\n",
      "C:\\Users\\Ernest\\AppData\\Roaming\\Python\\Python311\\site-packages\\urllib3\\connectionpool.py:1056: InsecureRequestWarning: Unverified HTTPS request is being made to host 'www.president.go.ke'. Adding certificate verification is strongly advised. See: https://urllib3.readthedocs.io/en/1.26.x/advanced-usage.html#ssl-warnings\n",
      "  warnings.warn(\n"
     ]
    },
    {
     "name": "stdout",
     "output_type": "stream",
     "text": [
      "Downloaded: pdf_downloads\\DURING-THE-INTERNATIONAL-WOMENS-DAY-CELEBRATIONS.pdf\n"
     ]
    },
    {
     "name": "stderr",
     "output_type": "stream",
     "text": [
      "C:\\Users\\Ernest\\AppData\\Roaming\\Python\\Python311\\site-packages\\urllib3\\connectionpool.py:1056: InsecureRequestWarning: Unverified HTTPS request is being made to host 'www.president.go.ke'. Adding certificate verification is strongly advised. See: https://urllib3.readthedocs.io/en/1.26.x/advanced-usage.html#ssl-warnings\n",
      "  warnings.warn(\n"
     ]
    },
    {
     "name": "stdout",
     "output_type": "stream",
     "text": [
      "Downloaded: pdf_downloads\\DURING-THE-OPENING-OF-THE-3RD-SITTING-OF-THE-3RD-SESSION-OF-THE-5TH-EAST-AFRICAN-LEGISLATIVE-ASSEMBLY.pdf\n"
     ]
    },
    {
     "name": "stderr",
     "output_type": "stream",
     "text": [
      "C:\\Users\\Ernest\\AppData\\Roaming\\Python\\Python311\\site-packages\\urllib3\\connectionpool.py:1056: InsecureRequestWarning: Unverified HTTPS request is being made to host 'www.president.go.ke'. Adding certificate verification is strongly advised. See: https://urllib3.readthedocs.io/en/1.26.x/advanced-usage.html#ssl-warnings\n",
      "  warnings.warn(\n"
     ]
    },
    {
     "name": "stdout",
     "output_type": "stream",
     "text": [
      "Downloaded: pdf_downloads\\ON-THE-REPORT-OF-THE-CAHOSCC-MEETING-OF-17TH-FEBRUARY-2024-TABLED-FOR-ADOPTION-AT-THE-AFRICAN-UNION-GENERAL-ASSEMBLY.pdf\n"
     ]
    },
    {
     "name": "stderr",
     "output_type": "stream",
     "text": [
      "C:\\Users\\Ernest\\AppData\\Roaming\\Python\\Python311\\site-packages\\urllib3\\connectionpool.py:1056: InsecureRequestWarning: Unverified HTTPS request is being made to host 'www.president.go.ke'. Adding certificate verification is strongly advised. See: https://urllib3.readthedocs.io/en/1.26.x/advanced-usage.html#ssl-warnings\n",
      "  warnings.warn(\n"
     ]
    },
    {
     "name": "stdout",
     "output_type": "stream",
     "text": [
      "Downloaded: pdf_downloads\\0204-IVI-SIDE-EVENT-EN.pdf\n"
     ]
    },
    {
     "name": "stderr",
     "output_type": "stream",
     "text": [
      "C:\\Users\\Ernest\\AppData\\Roaming\\Python\\Python311\\site-packages\\urllib3\\connectionpool.py:1056: InsecureRequestWarning: Unverified HTTPS request is being made to host 'www.president.go.ke'. Adding certificate verification is strongly advised. See: https://urllib3.readthedocs.io/en/1.26.x/advanced-usage.html#ssl-warnings\n",
      "  warnings.warn(\n"
     ]
    },
    {
     "name": "stdout",
     "output_type": "stream",
     "text": [
      "Downloaded: pdf_downloads\\AT-THE-MEETING-OF-THE-COMMITTEE-OF-AFRICAN-HEADS-OF-STATE-AND-GOVERNMENT-ON-CLIMATE-CHANGE.pdf\n"
     ]
    },
    {
     "name": "stderr",
     "output_type": "stream",
     "text": [
      "C:\\Users\\Ernest\\AppData\\Roaming\\Python\\Python311\\site-packages\\urllib3\\connectionpool.py:1056: InsecureRequestWarning: Unverified HTTPS request is being made to host 'www.president.go.ke'. Adding certificate verification is strongly advised. See: https://urllib3.readthedocs.io/en/1.26.x/advanced-usage.html#ssl-warnings\n",
      "  warnings.warn(\n"
     ]
    },
    {
     "name": "stdout",
     "output_type": "stream",
     "text": [
      "Downloaded: pdf_downloads\\AU-2024-Finance.pdf\n"
     ]
    },
    {
     "name": "stderr",
     "output_type": "stream",
     "text": [
      "C:\\Users\\Ernest\\AppData\\Roaming\\Python\\Python311\\site-packages\\urllib3\\connectionpool.py:1056: InsecureRequestWarning: Unverified HTTPS request is being made to host 'www.president.go.ke'. Adding certificate verification is strongly advised. See: https://urllib3.readthedocs.io/en/1.26.x/advanced-usage.html#ssl-warnings\n",
      "  warnings.warn(\n"
     ]
    },
    {
     "name": "stdout",
     "output_type": "stream",
     "text": [
      "Downloaded: pdf_downloads\\AT-THE-HIGH-LEVEL-EVENT-ON-CLIMATE-FINANCE-FOR-AGRICULTURE-AND-FOOD-SECURITY.pdf\n"
     ]
    },
    {
     "name": "stderr",
     "output_type": "stream",
     "text": [
      "C:\\Users\\Ernest\\AppData\\Roaming\\Python\\Python311\\site-packages\\urllib3\\connectionpool.py:1056: InsecureRequestWarning: Unverified HTTPS request is being made to host 'www.president.go.ke'. Adding certificate verification is strongly advised. See: https://urllib3.readthedocs.io/en/1.26.x/advanced-usage.html#ssl-warnings\n",
      "  warnings.warn(\n"
     ]
    },
    {
     "name": "stdout",
     "output_type": "stream",
     "text": [
      "Downloaded: pdf_downloads\\Despatch-from-Cabinet-14.02.2024.pdf\n"
     ]
    },
    {
     "name": "stderr",
     "output_type": "stream",
     "text": [
      "C:\\Users\\Ernest\\AppData\\Roaming\\Python\\Python311\\site-packages\\urllib3\\connectionpool.py:1056: InsecureRequestWarning: Unverified HTTPS request is being made to host 'www.president.go.ke'. Adding certificate verification is strongly advised. See: https://urllib3.readthedocs.io/en/1.26.x/advanced-usage.html#ssl-warnings\n",
      "  warnings.warn(\n"
     ]
    },
    {
     "name": "stdout",
     "output_type": "stream",
     "text": [
      "Downloaded: pdf_downloads\\0224-WORLD-GOVERNMENT-SUMMIT-UPDATED-REVISED-FINAL-2-EN.pdf\n"
     ]
    },
    {
     "name": "stderr",
     "output_type": "stream",
     "text": [
      "C:\\Users\\Ernest\\AppData\\Roaming\\Python\\Python311\\site-packages\\urllib3\\connectionpool.py:1056: InsecureRequestWarning: Unverified HTTPS request is being made to host 'www.president.go.ke'. Adding certificate verification is strongly advised. See: https://urllib3.readthedocs.io/en/1.26.x/advanced-usage.html#ssl-warnings\n",
      "  warnings.warn(\n"
     ]
    },
    {
     "name": "stdout",
     "output_type": "stream",
     "text": [
      "Downloaded: pdf_downloads\\FOLLOWING-A-BILATERAL-MEETING-WITH-H.-E.-FUMIO-KISHIDA-PRIME-MINISTER-OF-JAPAN-ON-STATE-VISIT-TO-JAPAN.pdf\n"
     ]
    }
   ],
   "source": [
    "def download_pdf(url, folder):\n",
    "    response = requests.get(url, verify=False)\n",
    "    if response.status_code == 200:\n",
    "        filename = os.path.join(folder, os.path.basename(url))\n",
    "        with open(filename, 'wb') as file:\n",
    "            file.write(response.content)\n",
    "        print(f\"Downloaded: {filename}\")\n",
    "    else:\n",
    "        print(f\"Failed to download: {url}\")\n",
    "\n",
    "def scrape_pdf_links(url, folder):\n",
    "    response = requests.get(url, verify=False)\n",
    "    if response.status_code == 200:\n",
    "        soup = BeautifulSoup(response.text, 'html.parser')\n",
    "        pdf_links = [urljoin(url, a['href']) for a in soup.find_all('a', href=True) if a['href'].lower().endswith('.pdf')]\n",
    "\n",
    "        for pdf_link in pdf_links:\n",
    "            download_pdf(pdf_link, folder)\n",
    "    else:\n",
    "        print(f\"Failed to fetch webpage: {url}\")\n",
    "\n",
    "website_url = \"https://www.president.go.ke/speeches/\"\n",
    "download_folder = 'pdf_downloads'\n",
    "\n",
    "os.makedirs(download_folder, exist_ok=True)\n",
    "\n",
    "scrape_pdf_links(website_url, download_folder)"
   ]
  },
  {
   "cell_type": "code",
   "execution_count": null,
   "metadata": {},
   "outputs": [],
   "source": [
    "def scrape_pdf_links_recursive(url, folder):\n",
    "    page_number = 1\n",
    "    while True:\n",
    "        current_url = f\"{url}page/{page_number}/\" if page_number > 1 else url\n",
    "        response = requests.get(current_url, verify=False)\n",
    "\n",
    "        if response.status_code == 200:\n",
    "            soup = BeautifulSoup(response.text, 'html.parser')\n",
    "\n",
    "            # Extracting links with .pdf extension\n",
    "            pdf_links = [urljoin(url, a['href']) for a in soup.find_all('a', href=True) if a['href'].lower().endswith('.pdf')]\n",
    "\n",
    "            # Downloading each PDF file\n",
    "            for pdf_link in pdf_links:\n",
    "                download_pdf(pdf_link, folder)\n",
    "\n",
    "            # Check for the next page link\n",
    "            next_page_link = soup.find('a', class_='next page-numbers')\n",
    "            if not next_page_link:\n",
    "                break  # No more pages, exit the loop\n",
    "            else:\n",
    "                page_number += 1\n",
    "        else:\n",
    "            print(f\"Failed to fetch webpage: {current_url}\")\n",
    "            break  # Exiting the loop on error\n",
    "\n",
    "\n",
    "\n",
    "website_url = \"https://www.president.go.ke/speeches/page/1/\"\n",
    "download_folder = 'pdf_downloads'\n",
    "\n",
    "os.makedirs(download_folder, exist_ok=True)\n",
    "\n",
    "scrape_pdf_links_recursive(website_url, download_folder)\n"
   ]
  }
 ],
 "metadata": {
  "kernelspec": {
   "display_name": "Python 3",
   "language": "python",
   "name": "python3"
  },
  "language_info": {
   "codemirror_mode": {
    "name": "ipython",
    "version": 3
   },
   "file_extension": ".py",
   "mimetype": "text/x-python",
   "name": "python",
   "nbconvert_exporter": "python",
   "pygments_lexer": "ipython3",
   "version": "3.11.4"
  }
 },
 "nbformat": 4,
 "nbformat_minor": 2
}
